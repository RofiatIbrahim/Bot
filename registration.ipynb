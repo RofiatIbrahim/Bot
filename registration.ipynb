import re
regex = '^(\w|\.|\_|\-)+[@](\w|\_|\-|\.)+[.]\w{2,3}$'

class UserInfo:
    def __init__(self, name, email, phone_number):
        self.name = name
        self.email = email
        self.phone_number = phone_number

print("***Welcome to BankPro. I am Rio I'll be helping with your account opening***")
print()
name = input('Kindly enter your first name: ')
print('Welcome ' + name + ". What is your email address")
while True:
    email_address = input('')
    if (re.search(regex, email_address)):
        print("Gotten, please enter your phone number")
        break;
    else:
        print('Invalid email, please type that once again')
while True:
    try:
        phone_number = input("")
        if len(phone_number) == 14  or len(phone_number) == 11:
            pattern=r"[+234][^.........$]"
            match = re.match(pattern, phone_number)
            if match  or len(phone_number) == 11:
                print('Gotten')
                break
            else:
                print('invalid')
        else:
            print('invalid')
    except ValueError:
        print('Provide an integer value')

user = UserInfo(name, email_address, phone_number)
